{
 "cells": [
  {
   "cell_type": "markdown",
   "metadata": {},
   "source": [
    "### Imports"
   ]
  },
  {
   "cell_type": "code",
   "execution_count": 16,
   "metadata": {},
   "outputs": [],
   "source": [
    "from qiskit import QuantumCircuit\n",
    "from qiskit_aer import AerSimulator\n",
    "from qiskit.visualization import plot_histogram, circuit_drawer\n",
    "import numpy as np\n",
    "import matplotlib.pyplot as plt\n",
    "import heapq\n",
    "from IPython.display import clear_output\n",
    "import time"
   ]
  },
  {
   "cell_type": "markdown",
   "metadata": {},
   "source": [
    "## Define The Maze"
   ]
  },
  {
   "cell_type": "markdown",
   "metadata": {},
   "source": [
    "### Maze Representation\n",
    "The maze is represented as a 2D list in Python, where each sub-list represents a row in the maze. The elements of the sub-lists represent the different types of cells in the maze. \n",
    "\n",
    "#### Elements of the Maze\n",
    "1. **Start Point ('S'):** The starting position in the maze is marked with the character `'S'`.\n",
    "   - This is where the search begins.\n",
    "\n",
    "2. **Goal Point ('G'):** The goal or endpoint of the maze is marked with the character `'G'`.\n",
    "   - The objective is to navigate from `'S'` to `'G'`.\n",
    "\n",
    "3. **Walls (1):** Cells with the value `1` represent walls or obstacles.\n",
    "   - These cells cannot be traversed.\n",
    "\n",
    "4. **Open Path (0):** Cells with the value `0` represent open paths.\n",
    "   - These cells can be traversed to navigate through the maze.\n",
    "\n",
    "#### Navigation Rules\n",
    "   - The algorithm must find a path from `'S'` to `'G'`.\n",
    "   - Movement is restricted to cells with a value of `0`.\n",
    "   - Walls (`1`) block movement.\n",
    "\n",
    "#### Possible Movements\n",
    "   - **Up**\n",
    "   - **Down**\n",
    "   - **Left**\n",
    "   - **Right**\n",
    "\n"
   ]
  },
  {
   "cell_type": "markdown",
   "metadata": {},
   "source": [
    "#### Maze"
   ]
  },
  {
   "cell_type": "code",
   "execution_count": 17,
   "metadata": {},
   "outputs": [],
   "source": [
    "maze = [\n",
    "    ['S', 0, 0, 1, 0, 0, 1, 1, 1, 0, 0, 1, 1, 1, 0],\n",
    "    [1, 1, 0, 1, 0, 1, 0, 0, 0, 0, 1, 0, 0, 0, 0],\n",
    "    [0, 0, 0, 1, 0, 1, 1, 1, 1, 0, 0, 1, 1, 0, 1],\n",
    "    [1, 1, 0, 0, 0, 0, 0, 0, 1, 1, 0, 0, 0, 0, 0],\n",
    "    [0, 1, 1, 1, 1, 1, 1, 0, 0, 0, 0, 1, 1, 1, 0],\n",
    "    [0, 0, 0, 0, 0, 1, 0, 1, 1, 1, 0, 0, 0, 0, 0],\n",
    "    [0, 1, 1, 1, 0, 1, 0, 0, 0, 0, 0, 1, 1, 1, 0],\n",
    "    [0, 0, 0, 1, 0, 0, 0, 1, 1, 1, 0, 1, 0, 0, 0],\n",
    "    [1, 1, 0, 1, 1, 1, 0, 1, 0, 0, 0, 1, 0, 1, 0],\n",
    "    [0, 0, 0, 0, 0, 1, 0, 1, 0, 1, 0, 1, 0, 0, 0],\n",
    "    [1, 1, 1, 1, 0, 0, 0, 0, 0, 1, 0, 0, 0, 1, 0],\n",
    "    [0, 0, 0, 1, 1, 1, 1, 1, 0, 1, 1, 1, 0, 1, 0],\n",
    "    [0, 1, 1, 1, 0, 0, 0, 0, 0, 0, 0, 1, 0, 1, 0],\n",
    "    [0, 0, 0, 0, 0, 1, 1, 1, 0, 1, 0, 0, 0, 1, 0],\n",
    "    [1, 1, 1, 1, 0, 0, 0, 0, 0, 1, 0, 0, 0, 0, 'G']\n",
    "]\n"
   ]
  },
  {
   "cell_type": "markdown",
   "metadata": {},
   "source": [
    "#### Define the start and goal positions\n"
   ]
  },
  {
   "cell_type": "code",
   "execution_count": 18,
   "metadata": {},
   "outputs": [],
   "source": [
    "start = (0, 0)  # Top-left corner\n",
    "goal = (14, 14)   # Bottom-right corner\n"
   ]
  },
  {
   "cell_type": "markdown",
   "metadata": {},
   "source": [
    "# Classical Search (A*)"
   ]
  },
  {
   "cell_type": "markdown",
   "metadata": {},
   "source": [
    "## Heuristic Function for A* Algorithm\n",
    "\n",
    "The `heuristic` function is a key component of the A* pathfinding algorithm. It estimates the cost of the cheapest path from the current node to the goal.\n",
    "\n",
    "### Explanation\n",
    "\n",
    "1. **Purpose**:\n",
    "   - The heuristic function calculates the Manhattan distance between two points `a` and `b` on a grid.\n",
    "   - It is used to guide the A* algorithm by providing an estimate of the remaining cost to reach the goal.\n",
    "\n",
    "2. **Parameters**:\n",
    "   - `a`: A tuple `(x1, y1)` representing the coordinates of the current node.\n",
    "   - `b`: A tuple `(x2, y2)` representing the coordinates of the goal node.\n",
    "\n",
    "3. **Calculation**:\n",
    "   - The Manhattan distance is calculated as:\n",
    "     \n",
    "     distance = |x_1 - x_2| + |y_1 - y_2|\n",
    "     \n",
    "   - This assumes movement is allowed only in the four cardinal directions (up, down, left, right).\n",
    "\n",
    "4. **Return Value**:\n",
    "   - The function returns the computed Manhattan distance as an integer.\n",
    "\n",
    "### Why Use Manhattan Distance?\n",
    "- The Manhattan distance is suitable for grids where diagonal movement is not allowed.\n",
    "- It provides a simple and efficient way to estimate the distance between two points, ensuring the A* algorithm remains optimal and complete.\n"
   ]
  },
  {
   "cell_type": "code",
   "execution_count": 19,
   "metadata": {},
   "outputs": [],
   "source": [
    "def heuristic(a, b):\n",
    "    \"\"\"Heuristic function for A* (Manhattan distance).\"\"\"\n",
    "    return abs(a[0] - b[0]) + abs(a[1] - b[1])"
   ]
  },
  {
   "cell_type": "markdown",
   "metadata": {},
   "source": [
    "##### Get Neighbors Function\n",
    "\n",
    "The `get_neighbors` function is used in pathfinding algorithms to determine valid neighboring cells for a given position in the maze.\n",
    "\n",
    "### Explanation\n",
    "\n",
    "1. **Purpose**:\n",
    "   - The function identifies all valid neighboring cells that can be traversed from the current position.\n",
    "   - It helps in exploring possible moves in the maze during pathfinding.\n",
    "\n",
    "2. **Parameters**:\n",
    "   - `maze`: A 2D list representing the maze where `0` indicates an open path and `1` indicates a wall or barrier.\n",
    "   - `position`: A tuple `(x, y)` representing the current position in the maze.\n",
    "\n",
    "3. **Logic**:\n",
    "   - The function iterates over four possible movements: **Up**, **Down**, **Left**, **Right**.\n",
    "   - For each direction, it calculates the potential new position `(nx, ny)`.\n",
    "   - It checks if the new position is within bounds and not blocked by a wall (`maze[nx][ny] != 1`).\n",
    "\n",
    "4. **Return Value**:\n",
    "   - Returns a list of valid neighboring positions as tuples `(nx, ny)`. These positions can be visited next.\n"
   ]
  },
  {
   "cell_type": "code",
   "execution_count": 20,
   "metadata": {},
   "outputs": [],
   "source": [
    "def get_neighbors(maze, position):\n",
    "    \"\"\"Get valid neighbors for the current position.\"\"\"\n",
    "    rows, cols = len(maze), len(maze[0])\n",
    "    x, y = position\n",
    "    neighbors = []\n",
    "\n",
    "    for dx, dy in [(-1, 0), (1, 0), (0, -1), (0, 1)]:  # Up, Down, Left, Right\n",
    "        nx, ny = x + dx, y + dy\n",
    "        if 0 <= nx < rows and 0 <= ny < cols and maze[nx][ny] != 1:  # Check bounds and barriers\n",
    "            neighbors.append((nx, ny))\n",
    "\n",
    "    return neighbors\n"
   ]
  },
  {
   "cell_type": "markdown",
   "metadata": {},
   "source": [
    "#### Path Construction"
   ]
  },
  {
   "cell_type": "code",
   "execution_count": 21,
   "metadata": {},
   "outputs": [],
   "source": [
    "def reconstruct_path(came_from, current):\n",
    "    \"\"\"Reconstruct the path from start to goal.\"\"\"\n",
    "    path = []\n",
    "    while current in came_from:\n",
    "        path.append(current)\n",
    "        current = came_from[current]\n",
    "    path.reverse()\n",
    "    return path\n"
   ]
  },
  {
   "cell_type": "markdown",
   "metadata": {},
   "source": [
    "#### A* Algorithm function"
   ]
  },
  {
   "cell_type": "markdown",
   "metadata": {},
   "source": [
    "#### Parameters:\n",
    "- `maze` (list of list of ints): A 2D grid where each cell is either 0 (open space) or 1 (wall).\n",
    "- `start` (tuple): Coordinates (x, y) of the starting position in the maze.\n",
    "- `goal` (tuple): Coordinates (x, y) of the goal position in the maze.\n",
    "\n",
    "#### Returns:\n",
    "- A list of coordinates representing the path from the start to the goal if a path is found.\n",
    "- None if no path is found."
   ]
  },
  {
   "cell_type": "code",
   "execution_count": 22,
   "metadata": {},
   "outputs": [],
   "source": [
    "def astar(maze, start, goal):\n",
    "    \"\"\"A* algorithm with debug information.\"\"\"\n",
    "    open_set = []\n",
    "    heapq.heappush(open_set, (0, start))\n",
    "    came_from = {}\n",
    "    g_score = {start: 0}\n",
    "    f_score = {start: heuristic(start, goal)}\n",
    "\n",
    "    while open_set:\n",
    "        _, current = heapq.heappop(open_set)\n",
    "\n",
    "        # Debugging: print current exploration status\n",
    "        print(f\"Exploring: {current}, f_score: {f_score[current]}\")\n",
    "\n",
    "        # Check if the goal is reached\n",
    "        if current == goal:\n",
    "            return reconstruct_path(came_from, current)\n",
    "\n",
    "        for neighbor in get_neighbors(maze, current):\n",
    "            tentative_g_score = g_score[current] + 1\n",
    "\n",
    "            if neighbor not in g_score or tentative_g_score < g_score[neighbor]:\n",
    "                came_from[neighbor] = current\n",
    "                g_score[neighbor] = tentative_g_score\n",
    "                f_score[neighbor] = g_score[neighbor] + heuristic(neighbor, goal)\n",
    "                heapq.heappush(open_set, (f_score[neighbor], neighbor))\n",
    "\n",
    "        # Debugging: print open set status after exploring neighbors\n",
    "        print(f\"Open set: {open_set}\")\n",
    "\n",
    "    return None  # No path found\n"
   ]
  },
  {
   "cell_type": "markdown",
   "metadata": {},
   "source": [
    "#### Helper functions"
   ]
  },
  {
   "cell_type": "code",
   "execution_count": 23,
   "metadata": {},
   "outputs": [],
   "source": [
    "def show_path(maze, path):\n",
    "    \"\"\"\n",
    "    Visualize the maze with the path.\n",
    "    - Path cells are marked with '*'.\n",
    "    - Start is marked with 'S'.\n",
    "    - Goal is marked with 'G'.\n",
    "    \"\"\"\n",
    "    maze_copy = [row[:] for row in maze]  # Create a copy of the maze to modify\n",
    "\n",
    "    for x, y in path:\n",
    "        if maze_copy[x][y] != 'G':  # Avoid overwriting the goal marker\n",
    "            maze_copy[x][y] = '*'\n",
    "\n",
    "    start_x, start_y = path[0]\n",
    "    maze_copy[start_x][start_y] = 'S'  # Mark the start position\n",
    "\n",
    "    for row in maze_copy:\n",
    "        print(\" \".join(str(cell) for cell in row))\n"
   ]
  },
  {
   "cell_type": "code",
   "execution_count": 24,
   "metadata": {},
   "outputs": [],
   "source": [
    "def print_maze(maze):\n",
    "    \"\"\"\n",
    "    Prints the maze in a human-readable format.\n",
    "    - Open spaces are shown as '0'.\n",
    "    - Barriers are shown as '1'.\n",
    "    - Start is shown as 'S'.\n",
    "    - Goal is shown as 'G'.\n",
    "    \"\"\"\n",
    "    for row in maze:\n",
    "        print(\" \".join(str(cell) for cell in row))\n",
    "    print(\"\\n\")  # Add a newline for better readability\n"
   ]
  },
  {
   "cell_type": "markdown",
   "metadata": {},
   "source": [
    "##### Visualization"
   ]
  },
  {
   "cell_type": "code",
   "execution_count": 25,
   "metadata": {},
   "outputs": [],
   "source": [
    "def print_exploration(maze, open_set):\n",
    "    \"\"\"\n",
    "    Visualize the maze during A* exploration.\n",
    "    - Explored cells in the open_set are marked as 'E'.\n",
    "    \"\"\"\n",
    "    maze_copy = [row[:] for row in maze]\n",
    "    for _, (x, y) in open_set:\n",
    "        if maze_copy[x][y] not in ('S', 'G'):  # Avoid overwriting start/goal markers\n",
    "            maze_copy[x][y] = 'E'\n",
    "\n",
    "    print_maze(maze_copy)\n",
    "    time.sleep(0.5)  # Pause for visualization\n"
   ]
  },
  {
   "cell_type": "code",
   "execution_count": 26,
   "metadata": {},
   "outputs": [],
   "source": [
    "def clear_terminal():\n",
    "    \"\"\"Clear the output in a Jupyter Notebook.\"\"\"\n",
    "    clear_output(wait=True)\n"
   ]
  },
  {
   "cell_type": "markdown",
   "metadata": {},
   "source": [
    "#### A* With vizualisation"
   ]
  },
  {
   "cell_type": "code",
   "execution_count": 27,
   "metadata": {},
   "outputs": [],
   "source": [
    "def astar_with_visualization(maze, start, goal):\n",
    "    \"\"\"\n",
    "    A* algorithm with visualization of exploration \n",
    "    \"\"\"\n",
    "    open_set = []\n",
    "    heapq.heappush(open_set, (0, start))\n",
    "    came_from = {}\n",
    "    g_score = {start: 0}\n",
    "    f_score = {start: heuristic(start, goal)}\n",
    "\n",
    "    while open_set:\n",
    "        # Clear the output to update the maze state\n",
    "        clear_terminal()\n",
    "        print(\"Exploring the maze...\")\n",
    "\n",
    "        # Visualize the current state\n",
    "        print_exploration(maze, open_set)\n",
    "\n",
    "        _, current = heapq.heappop(open_set)\n",
    "\n",
    "        # Check if the goal is reached\n",
    "        if current == goal:\n",
    "            return reconstruct_path(came_from, current)\n",
    "\n",
    "        for neighbor in get_neighbors(maze, current):\n",
    "            tentative_g_score = g_score[current] + 1\n",
    "\n",
    "            if neighbor not in g_score or tentative_g_score < g_score[neighbor]:\n",
    "                came_from[neighbor] = current\n",
    "                g_score[neighbor] = tentative_g_score\n",
    "                f_score[neighbor] = g_score[neighbor] + heuristic(neighbor, goal)\n",
    "                heapq.heappush(open_set, (f_score[neighbor], neighbor))\n",
    "\n",
    "    return None  # No path found"
   ]
  },
  {
   "cell_type": "markdown",
   "metadata": {},
   "source": [
    "#### Execute"
   ]
  },
  {
   "cell_type": "code",
   "execution_count": 28,
   "metadata": {},
   "outputs": [
    {
     "name": "stdout",
     "output_type": "stream",
     "text": [
      "Exploring the maze...\n",
      "S 0 0 1 0 0 1 1 1 0 0 1 1 1 0\n",
      "1 1 0 1 0 1 0 0 0 0 1 0 0 0 0\n",
      "0 E 0 1 E 1 1 1 1 0 0 1 1 0 1\n",
      "1 1 0 0 0 0 0 0 1 1 E 0 0 0 0\n",
      "0 1 1 1 1 1 1 0 0 0 0 1 1 1 E\n",
      "0 0 0 0 0 1 0 1 1 1 0 0 0 0 0\n",
      "0 1 1 1 0 1 0 0 0 E 0 1 1 1 0\n",
      "0 0 0 1 0 0 0 1 1 1 0 1 0 E 0\n",
      "1 1 0 1 1 1 0 1 0 E 0 1 0 1 0\n",
      "0 0 0 0 0 1 0 1 0 1 0 1 E E 0\n",
      "1 1 1 1 0 0 0 0 0 1 0 0 0 1 0\n",
      "0 0 0 1 1 1 1 1 0 1 1 1 0 1 0\n",
      "0 1 1 1 0 0 0 0 0 0 0 1 0 1 0\n",
      "0 0 0 0 0 1 1 1 0 1 0 E 0 1 0\n",
      "1 1 1 1 0 0 0 0 0 1 0 E 0 0 G\n",
      "\n",
      "\n",
      "Path found:\n",
      "S S * 1 0 0 1 1 1 0 0 1 1 1 0\n",
      "1 1 * 1 0 1 0 0 0 0 1 0 0 0 0\n",
      "0 0 * 1 0 1 1 1 1 0 0 1 1 0 1\n",
      "1 1 * * * * * * 1 1 0 0 0 0 0\n",
      "0 1 1 1 1 1 1 * * * * 1 1 1 0\n",
      "0 0 0 0 0 1 0 1 1 1 * * * * *\n",
      "0 1 1 1 0 1 0 0 0 0 0 1 1 1 *\n",
      "0 0 0 1 0 0 0 1 1 1 0 1 0 0 *\n",
      "1 1 0 1 1 1 0 1 0 0 0 1 0 1 *\n",
      "0 0 0 0 0 1 0 1 0 1 0 1 0 0 *\n",
      "1 1 1 1 0 0 0 0 0 1 0 0 0 1 *\n",
      "0 0 0 1 1 1 1 1 0 1 1 1 0 1 *\n",
      "0 1 1 1 0 0 0 0 0 0 0 1 0 1 *\n",
      "0 0 0 0 0 1 1 1 0 1 0 0 0 1 *\n",
      "1 1 1 1 0 0 0 0 0 1 0 0 0 0 G\n"
     ]
    }
   ],
   "source": [
    "# Run the A* algorithm with visualization\n",
    "path = astar_with_visualization(maze, start, goal)\n",
    "\n",
    "# Show the final path if found\n",
    "if path:\n",
    "    print(\"Path found:\")\n",
    "    show_path(maze, path)\n",
    "else:\n",
    "    print(\"No path found.\")\n"
   ]
  },
  {
   "cell_type": "markdown",
   "metadata": {},
   "source": [
    "# Quantum Search"
   ]
  }
 ],
 "metadata": {
  "kernelspec": {
   "display_name": "Python 3",
   "language": "python",
   "name": "python3"
  },
  "language_info": {
   "codemirror_mode": {
    "name": "ipython",
    "version": 3
   },
   "file_extension": ".py",
   "mimetype": "text/x-python",
   "name": "python",
   "nbconvert_exporter": "python",
   "pygments_lexer": "ipython3",
   "version": "3.12.4"
  }
 },
 "nbformat": 4,
 "nbformat_minor": 2
}
