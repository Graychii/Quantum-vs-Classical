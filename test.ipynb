{
 "cells": [
  {
   "cell_type": "markdown",
   "metadata": {},
   "source": [
    "### Imports"
   ]
  },
  {
   "cell_type": "code",
   "execution_count": 65,
   "metadata": {},
   "outputs": [],
   "source": [
    "from qiskit import QuantumCircuit\n",
    "from qiskit_aer import AerSimulator\n",
    "from qiskit.visualization import plot_histogram, circuit_drawer\n",
    "import numpy as np\n",
    "import matplotlib.pyplot as plt\n",
    "import heapq\n",
    "from IPython.display import clear_output\n",
    "import time"
   ]
  },
  {
   "cell_type": "markdown",
   "metadata": {},
   "source": [
    "## Define The Maze"
   ]
  },
  {
   "cell_type": "markdown",
   "metadata": {},
   "source": [
    "#### Maze"
   ]
  },
  {
   "cell_type": "code",
   "execution_count": null,
   "metadata": {},
   "outputs": [],
   "source": [
    "maze = [\n",
    "    ['S', 0, 0, 1, 0, 0, 1, 1, 1, 0, 0, 1, 1, 1, 0],\n",
    "    [1, 1, 0, 1, 0, 1, 0, 0, 0, 0, 1, 0, 0, 0, 0],\n",
    "    [0, 0, 0, 1, 0, 1, 1, 1, 1, 0, 0, 1, 1, 0, 1],\n",
    "    [1, 1, 0, 0, 0, 0, 0, 0, 1, 1, 0, 0, 0, 0, 0],\n",
    "    [0, 1, 1, 1, 1, 1, 1, 0, 0, 0, 0, 1, 1, 1, 0],\n",
    "    [0, 0, 0, 0, 0, 1, 0, 1, 1, 1, 0, 0, 0, 0, 0],\n",
    "    [0, 1, 1, 1, 0, 1, 0, 0, 0, 0, 0, 1, 1, 1, 0],\n",
    "    [0, 0, 0, 1, 0, 0, 0, 1, 1, 1, 0, 1, 0, 0, 0],\n",
    "    [1, 1, 0, 1, 1, 1, 0, 1, 0, 0, 0, 1, 0, 1, 0],\n",
    "    [0, 0, 0, 0, 0, 1, 0, 1, 0, 1, 0, 1, 0, 0, 0],\n",
    "    [1, 1, 1, 1, 0, 0, 0, 0, 0, 1, 0, 0, 0, 1, 0],\n",
    "    [0, 0, 0, 1, 1, 1, 1, 1, 0, 1, 1, 1, 0, 1, 0],\n",
    "    [0, 1, 1, 1, 0, 0, 0, 0, 0, 0, 0, 1, 0, 1, 0],\n",
    "    [0, 0, 0, 0, 0, 1, 1, 1, 0, 1, 0, 0, 0, 1, 0],\n",
    "    [1, 1, 1, 1, 0, 0, 0, 0, 0, 1, 0, 0, 0, 0, 'G']\n",
    "]\n"
   ]
  },
  {
   "cell_type": "markdown",
   "metadata": {},
   "source": [
    "#### Define the start and goal positions\n"
   ]
  },
  {
   "cell_type": "code",
   "execution_count": null,
   "metadata": {},
   "outputs": [],
   "source": [
    "start = (0, 0)  # Top-left corner\n",
    "goal = (14, 14)   # Bottom-right corner\n"
   ]
  },
  {
   "cell_type": "markdown",
   "metadata": {},
   "source": [
    "# Classical Search (A*)"
   ]
  },
  {
   "cell_type": "markdown",
   "metadata": {},
   "source": [
    "#### Define the Heuristic"
   ]
  },
  {
   "cell_type": "code",
   "execution_count": null,
   "metadata": {},
   "outputs": [],
   "source": [
    "def heuristic(a, b):\n",
    "    \"\"\"Heuristic function for A* (Manhattan distance).\"\"\"\n",
    "    return abs(a[0] - b[0]) + abs(a[1] - b[1])"
   ]
  },
  {
   "cell_type": "markdown",
   "metadata": {},
   "source": [
    "#### Get neighborhood"
   ]
  },
  {
   "cell_type": "code",
   "execution_count": null,
   "metadata": {},
   "outputs": [],
   "source": [
    "def get_neighbors(maze, position):\n",
    "    \"\"\"Get valid neighbors for the current position.\"\"\"\n",
    "    rows, cols = len(maze), len(maze[0])\n",
    "    x, y = position\n",
    "    neighbors = []\n",
    "\n",
    "    for dx, dy in [(-1, 0), (1, 0), (0, -1), (0, 1)]:  # Up, Down, Left, Right\n",
    "        nx, ny = x + dx, y + dy\n",
    "        if 0 <= nx < rows and 0 <= ny < cols and maze[nx][ny] != 1:  # Check bounds and barriers\n",
    "            neighbors.append((nx, ny))\n",
    "\n",
    "    return neighbors\n"
   ]
  },
  {
   "cell_type": "markdown",
   "metadata": {},
   "source": [
    "#### Path Construction"
   ]
  },
  {
   "cell_type": "code",
   "execution_count": null,
   "metadata": {},
   "outputs": [],
   "source": [
    "def reconstruct_path(came_from, current):\n",
    "    \"\"\"Reconstruct the path from start to goal.\"\"\"\n",
    "    path = []\n",
    "    while current in came_from:\n",
    "        path.append(current)\n",
    "        current = came_from[current]\n",
    "    path.reverse()\n",
    "    return path\n"
   ]
  },
  {
   "cell_type": "markdown",
   "metadata": {},
   "source": [
    "#### A* Algorithm function"
   ]
  },
  {
   "cell_type": "code",
   "execution_count": null,
   "metadata": {},
   "outputs": [],
   "source": [
    "def astar(maze, start, goal):\n",
    "    \"\"\"A* algorithm with debug information.\"\"\"\n",
    "    open_set = []\n",
    "    heapq.heappush(open_set, (0, start))\n",
    "    came_from = {}\n",
    "    g_score = {start: 0}\n",
    "    f_score = {start: heuristic(start, goal)}\n",
    "\n",
    "    while open_set:\n",
    "        _, current = heapq.heappop(open_set)\n",
    "\n",
    "        # Debugging: print current exploration status\n",
    "        print(f\"Exploring: {current}, f_score: {f_score[current]}\")\n",
    "\n",
    "        # Check if the goal is reached\n",
    "        if current == goal:\n",
    "            return reconstruct_path(came_from, current)\n",
    "\n",
    "        for neighbor in get_neighbors(maze, current):\n",
    "            tentative_g_score = g_score[current] + 1\n",
    "\n",
    "            if neighbor not in g_score or tentative_g_score < g_score[neighbor]:\n",
    "                came_from[neighbor] = current\n",
    "                g_score[neighbor] = tentative_g_score\n",
    "                f_score[neighbor] = g_score[neighbor] + heuristic(neighbor, goal)\n",
    "                heapq.heappush(open_set, (f_score[neighbor], neighbor))\n",
    "\n",
    "        # Debugging: print open set status after exploring neighbors\n",
    "        print(f\"Open set: {open_set}\")\n",
    "\n",
    "    return None  # No path found\n"
   ]
  },
  {
   "cell_type": "markdown",
   "metadata": {},
   "source": [
    "#### Helper functions"
   ]
  },
  {
   "cell_type": "code",
   "execution_count": null,
   "metadata": {},
   "outputs": [],
   "source": [
    "def show_path(maze, path):\n",
    "    \"\"\"\n",
    "    Visualize the maze with the path.\n",
    "    - Path cells are marked with '*'.\n",
    "    - Start is marked with 'S'.\n",
    "    - Goal is marked with 'G'.\n",
    "    \"\"\"\n",
    "    maze_copy = [row[:] for row in maze]  # Create a copy of the maze to modify\n",
    "\n",
    "    for x, y in path:\n",
    "        if maze_copy[x][y] != 'G':  # Avoid overwriting the goal marker\n",
    "            maze_copy[x][y] = '*'\n",
    "\n",
    "    start_x, start_y = path[0]\n",
    "    maze_copy[start_x][start_y] = 'S'  # Mark the start position\n",
    "\n",
    "    for row in maze_copy:\n",
    "        print(\" \".join(str(cell) for cell in row))\n"
   ]
  },
  {
   "cell_type": "code",
   "execution_count": null,
   "metadata": {},
   "outputs": [],
   "source": [
    "def print_maze(maze):\n",
    "    \"\"\"\n",
    "    Prints the maze in a human-readable format.\n",
    "    - Open spaces are shown as '0'.\n",
    "    - Barriers are shown as '1'.\n",
    "    - Start is shown as 'S'.\n",
    "    - Goal is shown as 'G'.\n",
    "    \"\"\"\n",
    "    for row in maze:\n",
    "        print(\" \".join(str(cell) for cell in row))\n",
    "    print(\"\\n\")  # Add a newline for better readability\n"
   ]
  },
  {
   "cell_type": "markdown",
   "metadata": {},
   "source": [
    "##### Visualization"
   ]
  },
  {
   "cell_type": "code",
   "execution_count": null,
   "metadata": {},
   "outputs": [],
   "source": [
    "def print_exploration(maze, open_set):\n",
    "    \"\"\"\n",
    "    Visualize the maze during A* exploration.\n",
    "    - Explored cells in the open_set are marked as 'E'.\n",
    "    \"\"\"\n",
    "    maze_copy = [row[:] for row in maze]\n",
    "    for _, (x, y) in open_set:\n",
    "        if maze_copy[x][y] not in ('S', 'G'):  # Avoid overwriting start/goal markers\n",
    "            maze_copy[x][y] = 'E'\n",
    "\n",
    "    print_maze(maze_copy)\n",
    "    time.sleep(0.5)  # Pause for visualization\n"
   ]
  },
  {
   "cell_type": "code",
   "execution_count": null,
   "metadata": {},
   "outputs": [],
   "source": [
    "def clear_terminal():\n",
    "    \"\"\"Clear the output in a Jupyter Notebook.\"\"\"\n",
    "    clear_output(wait=True)\n"
   ]
  },
  {
   "cell_type": "markdown",
   "metadata": {},
   "source": [
    "#### A* With vizualisation"
   ]
  },
  {
   "cell_type": "code",
   "execution_count": null,
   "metadata": {},
   "outputs": [],
   "source": [
    "def astar_with_visualization(maze, start, goal):\n",
    "    \"\"\"\n",
    "    A* algorithm with visualization of exploration in a Jupyter Notebook.\n",
    "    \"\"\"\n",
    "    open_set = []\n",
    "    heapq.heappush(open_set, (0, start))\n",
    "    came_from = {}\n",
    "    g_score = {start: 0}\n",
    "    f_score = {start: heuristic(start, goal)}\n",
    "\n",
    "    while open_set:\n",
    "        # Clear the output to update the maze state\n",
    "        clear_terminal()\n",
    "        print(\"Exploring the maze...\")\n",
    "\n",
    "        # Visualize the current state\n",
    "        print_exploration(maze, open_set)\n",
    "\n",
    "        _, current = heapq.heappop(open_set)\n",
    "\n",
    "        # Check if the goal is reached\n",
    "        if current == goal:\n",
    "            return reconstruct_path(came_from, current)\n",
    "\n",
    "        for neighbor in get_neighbors(maze, current):\n",
    "            tentative_g_score = g_score[current] + 1\n",
    "\n",
    "            if neighbor not in g_score or tentative_g_score < g_score[neighbor]:\n",
    "                came_from[neighbor] = current\n",
    "                g_score[neighbor] = tentative_g_score\n",
    "                f_score[neighbor] = g_score[neighbor] + heuristic(neighbor, goal)\n",
    "                heapq.heappush(open_set, (f_score[neighbor], neighbor))\n",
    "\n",
    "    return None  # No path found"
   ]
  },
  {
   "cell_type": "markdown",
   "metadata": {},
   "source": [
    "#### Execute"
   ]
  },
  {
   "cell_type": "code",
   "execution_count": null,
   "metadata": {},
   "outputs": [],
   "source": [
    "# Run the A* algorithm with visualization\n",
    "path = astar_with_visualization(maze, start, goal)\n",
    "\n",
    "# Show the final path if found\n",
    "if path:\n",
    "    print(\"Path found:\")\n",
    "    show_path(maze, path)\n",
    "else:\n",
    "    print(\"No path found.\")\n"
   ]
  },
  {
   "cell_type": "markdown",
   "metadata": {},
   "source": [
    "# Quantum Search"
   ]
  },
  {
   "cell_type": "code",
   "execution_count": null,
   "metadata": {},
   "outputs": [],
   "source": [
    "\n",
    "\n",
    "# Helper function to create the oracle\n",
    "def create_oracle(goal_index, num_qubits):\n",
    "    \"\"\"Create an oracle that marks the goal index.\"\"\"\n",
    "    oracle_circuit = QuantumCircuit(num_qubits, name=\"Oracle\")\n",
    "    binary_goal = format(goal_index, f\"0{num_qubits}b\")\n",
    "    for i, bit in enumerate(reversed(binary_goal)):\n",
    "        if bit == '0':\n",
    "            oracle_circuit.x(i)\n",
    "    oracle_circuit.mcx(list(range(num_qubits - 1)), num_qubits - 1)\n",
    "    for i, bit in enumerate(reversed(binary_goal)):\n",
    "        if bit == '0':\n",
    "            oracle_circuit.x(i)\n",
    "    return oracle_circuit\n",
    "\n",
    "# Function to run Grover's algorithm\n",
    "def grover_maze_search(maze):\n",
    "    num_cells = len(maze)\n",
    "    num_qubits = int(np.ceil(np.log2(num_cells)))\n",
    "\n",
    "    # Create a quantum circuit\n",
    "    qc = QuantumCircuit(num_qubits, num_qubits)\n",
    "    qc.h(range(num_qubits))  # Apply Hadamard gates to all qubits\n",
    "\n",
    "    # Create Oracle and Grover Operator\n",
    "    oracle = create_oracle(goal_index, num_qubits)\n",
    "    grover_op = QuantumCircuit(num_qubits, name=\"Grover\")\n",
    "    grover_op.compose(oracle, inplace=True)\n",
    "\n",
    "    # Add the diffusion operator (reflection about |+> state)\n",
    "    grover_op.h(range(num_qubits))\n",
    "    grover_op.x(range(num_qubits))\n",
    "    grover_op.h(num_qubits - 1)\n",
    "    grover_op.mcx(list(range(num_qubits - 1)), num_qubits - 1)\n",
    "    grover_op.h(num_qubits - 1)\n",
    "    grover_op.x(range(num_qubits))\n",
    "    grover_op.h(range(num_qubits))\n",
    "\n",
    "    # Number of iterations needed\n",
    "    num_iterations = int(np.floor(np.pi / 4 * np.sqrt(num_cells)))\n",
    "\n",
    "    for _ in range(num_iterations):\n",
    "        qc.compose(oracle, inplace=True)\n",
    "        qc.compose(grover_op, inplace=True)\n",
    "\n",
    "    # Measure the result\n",
    "    qc.measure(range(num_qubits), range(num_qubits))\n",
    "\n",
    "    # Draw the circuit\n",
    "    print(\"\\nGrover's Algorithm Circuit:\")\n",
    "    display(qc.draw())\n",
    "\n",
    "    # Run the circuit on a simulator\n",
    "    simulator = AerSimulator()\n",
    "    job = simulator.run(qc, shots=1024)\n",
    "    result = job.result()\n",
    "    counts = result.get_counts()\n",
    "\n",
    "    return counts\n",
    "\n",
    "# Run Grover's algorithm on the maze\n",
    "result = grover_maze_search(maze)\n",
    "\n",
    "# Visualize the result\n",
    "\n",
    "# Decode the result\n",
    "most_likely = max(result, key=result.get)\n",
    "found_index = int(most_likely, 2)\n",
    "\n",
    "print(f\"Goal cell found at index: {found_index}\")\n"
   ]
  },
  {
   "cell_type": "code",
   "execution_count": null,
   "metadata": {},
   "outputs": [],
   "source": [
    "import numpy as np\n",
    "from qiskit import QuantumCircuit, transpile\n",
    "from qiskit_aer import AerSimulator\n",
    "import os\n",
    "import time\n",
    "from qiskit.visualization import plot_histogram\n",
    "import matplotlib.pyplot as plt\n",
    "\n",
    "def clear_terminal():\n",
    "    \"\"\"Clear the terminal output.\"\"\"\n",
    "    os.system('cls' if os.name == 'nt' else 'clear')\n",
    "\n",
    "def visualize_maze(maze, highlight=None, delay=0.5):\n",
    "    \"\"\"Visualize the maze in the terminal.\"\"\"\n",
    "    clear_terminal()\n",
    "    grid_size = int(np.sqrt(len(maze)))\n",
    "    for i, cell in enumerate(maze):\n",
    "        if i == highlight:\n",
    "            print(\"🔍\", end=\" \")  # Highlight the current cell being processed\n",
    "        elif cell == 1:  # Wall\n",
    "            print(\"#\", end=\" \")\n",
    "        elif cell == 0:  # Empty space\n",
    "            print(\".\", end=\" \")\n",
    "        elif cell == \"G\":  # Goal\n",
    "            print(\"G\", end=\" \")\n",
    "        else:\n",
    "            print(\"?\", end=\" \")\n",
    "        if (i + 1) % grid_size == 0:\n",
    "            print()  # New line for the grid\n",
    "    print(\"\\n\")\n",
    "    print(f\"Highlighting cell: {highlight}\")\n",
    "    time.sleep(delay)\n",
    "\n",
    "def create_oracle(goal_index, num_qubits):\n",
    "    \"\"\"Create an oracle that marks the goal index.\"\"\"\n",
    "    oracle = QuantumCircuit(num_qubits, name=\"Oracle\")\n",
    "    binary_goal = format(goal_index, f'0{num_qubits}b')  # Ensure proper binary representation\n",
    "    for i, bit in enumerate(reversed(binary_goal)):\n",
    "        if bit == '0':\n",
    "            oracle.x(i)\n",
    "    oracle.mcx(list(range(num_qubits - 1)), num_qubits - 1)\n",
    "    for i, bit in enumerate(reversed(binary_goal)):\n",
    "        if bit == '0':\n",
    "            oracle.x(i)\n",
    "    return oracle\n",
    "\n",
    "\n",
    "def create_diffusion_operator(num_qubits):\n",
    "    \"\"\"Create the Grover diffusion operator.\"\"\"\n",
    "    diffusion = QuantumCircuit(num_qubits, name=\"Diffusion\")\n",
    "    diffusion.h(range(num_qubits))\n",
    "    diffusion.x(range(num_qubits))\n",
    "    diffusion.h(num_qubits - 1)\n",
    "    diffusion.mcx(list(range(num_qubits - 1)), num_qubits - 1)\n",
    "    diffusion.h(num_qubits - 1)\n",
    "    diffusion.x(range(num_qubits))\n",
    "    diffusion.h(range(num_qubits))\n",
    "    return diffusion\n",
    "\n",
    "# Grover Search with Improved Visualization\n",
    "def grover_search_maze(maze, goal_index):\n",
    "    num_cells = len(maze)\n",
    "    num_qubits = int(np.ceil(np.log2(num_cells)))\n",
    "    qc = QuantumCircuit(num_qubits, num_qubits)\n",
    "    qc.h(range(num_qubits))\n",
    "\n",
    "    oracle = create_oracle(goal_index, num_qubits)\n",
    "    diffusion = create_diffusion_operator(num_qubits)\n",
    "    num_iterations = int(np.floor(np.pi / 4 * np.sqrt(num_cells)))\n",
    "\n",
    "    for _ in range(num_iterations):\n",
    "        qc.compose(oracle, inplace=True)\n",
    "        qc.compose(diffusion, inplace=True)\n",
    "\n",
    "    qc.measure(range(num_qubits), range(num_qubits))\n",
    "\n",
    "    simulator = AerSimulator()\n",
    "    compiled_circuit = transpile(qc, simulator)\n",
    "    job = simulator.run(compiled_circuit, shots=1024)\n",
    "    result = job.result()\n",
    "    counts = result.get_counts()\n",
    "\n",
    "    # Highlight most probable state\n",
    "    most_probable_state = max(counts, key=counts.get)\n",
    "    highlight = int(most_probable_state, 2)\n",
    "    visualize_maze(maze, highlight=highlight, delay=1)\n",
    "\n",
    "    return counts\n",
    "\n",
    "\n",
    "# Define the maze (0 = empty, 1 = wall, \"G\" = goal)\n",
    "maze = [0, 0, 0, 1,  # 4x4 grid\n",
    "        1, 0, 0, 0,\n",
    "        0, 0, 0, 0,\n",
    "        1, 1, \"G\", 1]\n",
    "\n",
    "goal_index = 14  # Index of the goal cell\n",
    "\n",
    "# Run Grover's algorithm on the maze\n",
    "result = grover_search_maze(maze, goal_index)\n"
   ]
  },
  {
   "cell_type": "code",
   "execution_count": null,
   "metadata": {},
   "outputs": [],
   "source": [
    "try:\n",
    "    result = grover_search_maze(maze, goal_index)\n",
    "    plot_histogram(result)\n",
    "\n",
    "    # Decode the result\n",
    "    most_likely = max(result, key=result.get)\n",
    "    found_index = int(most_likely, 2)\n",
    "\n",
    "    # Visualize the final result\n",
    "    visualize_maze(maze, delay=0)\n",
    "    print(f\"Goal cell found at index: {found_index} (🔍)\")\n",
    "except ValueError as e:\n",
    "    print(f\"Error: {e}\")"
   ]
  },
  {
   "cell_type": "code",
   "execution_count": null,
   "metadata": {},
   "outputs": [],
   "source": []
  },
  {
   "cell_type": "code",
   "execution_count": null,
   "metadata": {},
   "outputs": [],
   "source": [
    "plot_histogram(result)"
   ]
  },
  {
   "cell_type": "code",
   "execution_count": null,
   "metadata": {},
   "outputs": [],
   "source": [
    "# Test Oracle\n",
    "oracle = create_oracle(goal_index=14, num_qubits=4)\n",
    "print(\"Oracle Circuit:\")\n",
    "print(oracle)\n",
    "\n",
    "# Test Diffusion Operator\n",
    "diffusion = create_diffusion_operator(num_qubits=4)\n",
    "print(\"Diffusion Circuit:\")\n",
    "print(diffusion)\n",
    "\n",
    "# Test Full Circuit Without Visualization\n",
    "qc = QuantumCircuit(4, 4)\n",
    "qc.h(range(4))\n",
    "qc.compose(oracle, inplace=True)\n",
    "qc.compose(diffusion, inplace=True)\n",
    "qc.measure(range(4), range(4))\n",
    "\n",
    "simulator = AerSimulator()\n",
    "compiled_circuit = transpile(qc, simulator)\n",
    "job = simulator.run(compiled_circuit, shots=1024)\n",
    "result = job.result()\n",
    "counts = result.get_counts()\n",
    "print(\"Final Counts:\", counts)\n"
   ]
  }
 ],
 "metadata": {
  "kernelspec": {
   "display_name": "base",
   "language": "python",
   "name": "python3"
  },
  "language_info": {
   "codemirror_mode": {
    "name": "ipython",
    "version": 3
   },
   "file_extension": ".py",
   "mimetype": "text/x-python",
   "name": "python",
   "nbconvert_exporter": "python",
   "pygments_lexer": "ipython3",
   "version": "3.11.5"
  }
 },
 "nbformat": 4,
 "nbformat_minor": 2
}
